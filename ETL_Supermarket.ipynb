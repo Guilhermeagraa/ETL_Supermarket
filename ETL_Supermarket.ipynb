{
 "cells": [
  {
   "cell_type": "code",
   "execution_count": 2,
   "id": "4a2bbaac",
   "metadata": {},
   "outputs": [
    {
     "name": "stdout",
     "output_type": "stream",
     "text": [
      "Requirement already satisfied: pandas in c:\\users\\guilh\\anaconda3\\lib\\site-packages (2.0.3)\n",
      "Requirement already satisfied: python-dateutil>=2.8.2 in c:\\users\\guilh\\anaconda3\\lib\\site-packages (from pandas) (2.8.2)\n",
      "Requirement already satisfied: pytz>=2020.1 in c:\\users\\guilh\\anaconda3\\lib\\site-packages (from pandas) (2023.3.post1)\n",
      "Requirement already satisfied: tzdata>=2022.1 in c:\\users\\guilh\\anaconda3\\lib\\site-packages (from pandas) (2023.3)\n",
      "Requirement already satisfied: numpy>=1.21.0 in c:\\users\\guilh\\anaconda3\\lib\\site-packages (from pandas) (1.24.3)\n",
      "Requirement already satisfied: six>=1.5 in c:\\users\\guilh\\anaconda3\\lib\\site-packages (from python-dateutil>=2.8.2->pandas) (1.16.0)\n",
      "Note: you may need to restart the kernel to use updated packages.\n"
     ]
    }
   ],
   "source": [
    "pip install pandas"
   ]
  },
  {
   "cell_type": "code",
   "execution_count": 3,
   "id": "4f59e20c",
   "metadata": {},
   "outputs": [],
   "source": [
    "import pandas as pd"
   ]
  },
  {
   "cell_type": "code",
   "execution_count": 4,
   "id": "9bc96ac2",
   "metadata": {},
   "outputs": [
    {
     "name": "stdout",
     "output_type": "stream",
     "text": [
      "    Invoice ID Branch       City Customer type  Gender  \\\n",
      "0  750-67-8428   Alex     Yangon        Member  Female   \n",
      "1  226-31-3081   Giza  Naypyitaw        Normal  Female   \n",
      "2  631-41-3108   Alex     Yangon        Normal  Female   \n",
      "3  123-19-1176   Alex     Yangon        Member  Female   \n",
      "4  373-73-7910   Alex     Yangon        Member  Female   \n",
      "\n",
      "             Product line  Unit price  Quantity   Tax 5%     Sales       Date  \\\n",
      "0       Health and beauty       74.69         7  26.1415  548.9715   1/5/2019   \n",
      "1  Electronic accessories       15.28         5   3.8200   80.2200   3/8/2019   \n",
      "2      Home and lifestyle       46.33         7  16.2155  340.5255   3/3/2019   \n",
      "3       Health and beauty       58.22         8  23.2880  489.0480  1/27/2019   \n",
      "4       Sports and travel       86.31         7  30.2085  634.3785   2/8/2019   \n",
      "\n",
      "          Time      Payment    cogs  gross margin percentage  gross income  \\\n",
      "0   1:08:00 PM      Ewallet  522.83                 4.761905       26.1415   \n",
      "1  10:29:00 AM         Cash   76.40                 4.761905        3.8200   \n",
      "2   1:23:00 PM  Credit card  324.31                 4.761905       16.2155   \n",
      "3   8:33:00 PM      Ewallet  465.76                 4.761905       23.2880   \n",
      "4  10:37:00 AM      Ewallet  604.17                 4.761905       30.2085   \n",
      "\n",
      "   Rating  \n",
      "0     9.1  \n",
      "1     9.6  \n",
      "2     7.4  \n",
      "3     8.4  \n",
      "4     5.3  \n"
     ]
    }
   ],
   "source": [
    "df = pd.read_csv(\"C:/Users/guilh/Downloads/SuperMarket Analysis.csv\")\n",
    "print(df.head())"
   ]
  },
  {
   "cell_type": "code",
   "execution_count": 6,
   "id": "f2efdf98",
   "metadata": {
    "scrolled": true
   },
   "outputs": [],
   "source": [
    "df = df[['Invoice ID', 'Branch', 'City', 'Customer type', 'Gender', \n",
    "         'Product line', 'Unit price', 'Quantity', 'Tax 5%', 'Sales', 'Date']]"
   ]
  },
  {
   "cell_type": "code",
   "execution_count": 8,
   "id": "f6db5a43",
   "metadata": {},
   "outputs": [],
   "source": [
    "df.loc[:, 'Average Price'] = df['Sales'] / df['Quantity']"
   ]
  },
  {
   "cell_type": "code",
   "execution_count": 9,
   "id": "1d536b91",
   "metadata": {},
   "outputs": [
    {
     "name": "stdout",
     "output_type": "stream",
     "text": [
      "Invoice ID       0\n",
      "Branch           0\n",
      "City             0\n",
      "Customer type    0\n",
      "Gender           0\n",
      "Product line     0\n",
      "Unit price       0\n",
      "Quantity         0\n",
      "Tax 5%           0\n",
      "Sales            0\n",
      "Date             0\n",
      "Average Price    0\n",
      "dtype: int64\n"
     ]
    }
   ],
   "source": [
    "print(df.isnull().sum())"
   ]
  },
  {
   "cell_type": "code",
   "execution_count": 10,
   "id": "a4df4a9b",
   "metadata": {},
   "outputs": [
    {
     "data": {
      "text/html": [
       "<div>\n",
       "<style scoped>\n",
       "    .dataframe tbody tr th:only-of-type {\n",
       "        vertical-align: middle;\n",
       "    }\n",
       "\n",
       "    .dataframe tbody tr th {\n",
       "        vertical-align: top;\n",
       "    }\n",
       "\n",
       "    .dataframe thead th {\n",
       "        text-align: right;\n",
       "    }\n",
       "</style>\n",
       "<table border=\"1\" class=\"dataframe\">\n",
       "  <thead>\n",
       "    <tr style=\"text-align: right;\">\n",
       "      <th></th>\n",
       "      <th>Invoice ID</th>\n",
       "      <th>Branch</th>\n",
       "      <th>City</th>\n",
       "      <th>Customer type</th>\n",
       "      <th>Gender</th>\n",
       "      <th>Product line</th>\n",
       "      <th>Unit price</th>\n",
       "      <th>Quantity</th>\n",
       "      <th>Tax 5%</th>\n",
       "      <th>Sales</th>\n",
       "      <th>Date</th>\n",
       "      <th>Average Price</th>\n",
       "    </tr>\n",
       "  </thead>\n",
       "  <tbody>\n",
       "    <tr>\n",
       "      <th>0</th>\n",
       "      <td>750-67-8428</td>\n",
       "      <td>Alex</td>\n",
       "      <td>Yangon</td>\n",
       "      <td>Member</td>\n",
       "      <td>Female</td>\n",
       "      <td>Health and beauty</td>\n",
       "      <td>74.69</td>\n",
       "      <td>7</td>\n",
       "      <td>26.1415</td>\n",
       "      <td>548.9715</td>\n",
       "      <td>1/5/2019</td>\n",
       "      <td>78.4245</td>\n",
       "    </tr>\n",
       "    <tr>\n",
       "      <th>1</th>\n",
       "      <td>226-31-3081</td>\n",
       "      <td>Giza</td>\n",
       "      <td>Naypyitaw</td>\n",
       "      <td>Normal</td>\n",
       "      <td>Female</td>\n",
       "      <td>Electronic accessories</td>\n",
       "      <td>15.28</td>\n",
       "      <td>5</td>\n",
       "      <td>3.8200</td>\n",
       "      <td>80.2200</td>\n",
       "      <td>3/8/2019</td>\n",
       "      <td>16.0440</td>\n",
       "    </tr>\n",
       "    <tr>\n",
       "      <th>2</th>\n",
       "      <td>631-41-3108</td>\n",
       "      <td>Alex</td>\n",
       "      <td>Yangon</td>\n",
       "      <td>Normal</td>\n",
       "      <td>Female</td>\n",
       "      <td>Home and lifestyle</td>\n",
       "      <td>46.33</td>\n",
       "      <td>7</td>\n",
       "      <td>16.2155</td>\n",
       "      <td>340.5255</td>\n",
       "      <td>3/3/2019</td>\n",
       "      <td>48.6465</td>\n",
       "    </tr>\n",
       "    <tr>\n",
       "      <th>3</th>\n",
       "      <td>123-19-1176</td>\n",
       "      <td>Alex</td>\n",
       "      <td>Yangon</td>\n",
       "      <td>Member</td>\n",
       "      <td>Female</td>\n",
       "      <td>Health and beauty</td>\n",
       "      <td>58.22</td>\n",
       "      <td>8</td>\n",
       "      <td>23.2880</td>\n",
       "      <td>489.0480</td>\n",
       "      <td>1/27/2019</td>\n",
       "      <td>61.1310</td>\n",
       "    </tr>\n",
       "    <tr>\n",
       "      <th>4</th>\n",
       "      <td>373-73-7910</td>\n",
       "      <td>Alex</td>\n",
       "      <td>Yangon</td>\n",
       "      <td>Member</td>\n",
       "      <td>Female</td>\n",
       "      <td>Sports and travel</td>\n",
       "      <td>86.31</td>\n",
       "      <td>7</td>\n",
       "      <td>30.2085</td>\n",
       "      <td>634.3785</td>\n",
       "      <td>2/8/2019</td>\n",
       "      <td>90.6255</td>\n",
       "    </tr>\n",
       "  </tbody>\n",
       "</table>\n",
       "</div>"
      ],
      "text/plain": [
       "    Invoice ID Branch       City Customer type  Gender  \\\n",
       "0  750-67-8428   Alex     Yangon        Member  Female   \n",
       "1  226-31-3081   Giza  Naypyitaw        Normal  Female   \n",
       "2  631-41-3108   Alex     Yangon        Normal  Female   \n",
       "3  123-19-1176   Alex     Yangon        Member  Female   \n",
       "4  373-73-7910   Alex     Yangon        Member  Female   \n",
       "\n",
       "             Product line  Unit price  Quantity   Tax 5%     Sales       Date  \\\n",
       "0       Health and beauty       74.69         7  26.1415  548.9715   1/5/2019   \n",
       "1  Electronic accessories       15.28         5   3.8200   80.2200   3/8/2019   \n",
       "2      Home and lifestyle       46.33         7  16.2155  340.5255   3/3/2019   \n",
       "3       Health and beauty       58.22         8  23.2880  489.0480  1/27/2019   \n",
       "4       Sports and travel       86.31         7  30.2085  634.3785   2/8/2019   \n",
       "\n",
       "   Average Price  \n",
       "0        78.4245  \n",
       "1        16.0440  \n",
       "2        48.6465  \n",
       "3        61.1310  \n",
       "4        90.6255  "
      ]
     },
     "execution_count": 10,
     "metadata": {},
     "output_type": "execute_result"
    }
   ],
   "source": [
    "df.head()"
   ]
  },
  {
   "cell_type": "code",
   "execution_count": 11,
   "id": "63b7f40d",
   "metadata": {},
   "outputs": [],
   "source": [
    "import sqlite3\n",
    "conn = sqlite3.connect(\"supermarket_sales.db\")"
   ]
  },
  {
   "cell_type": "code",
   "execution_count": 12,
   "id": "224fc00b",
   "metadata": {},
   "outputs": [
    {
     "data": {
      "text/plain": [
       "1000"
      ]
     },
     "execution_count": 12,
     "metadata": {},
     "output_type": "execute_result"
    }
   ],
   "source": [
    "df.to_sql(\"sales\", conn, if_exists=\"replace\", index=False)"
   ]
  },
  {
   "cell_type": "code",
   "execution_count": 13,
   "id": "27c11a47",
   "metadata": {},
   "outputs": [
    {
     "name": "stdout",
     "output_type": "stream",
     "text": [
      "    Invoice ID Branch       City Customer type  Gender  \\\n",
      "0  750-67-8428   Alex     Yangon        Member  Female   \n",
      "1  226-31-3081   Giza  Naypyitaw        Normal  Female   \n",
      "2  631-41-3108   Alex     Yangon        Normal  Female   \n",
      "3  123-19-1176   Alex     Yangon        Member  Female   \n",
      "4  373-73-7910   Alex     Yangon        Member  Female   \n",
      "\n",
      "             Product line  Unit price  Quantity   Tax 5%     Sales       Date  \\\n",
      "0       Health and beauty       74.69         7  26.1415  548.9715   1/5/2019   \n",
      "1  Electronic accessories       15.28         5   3.8200   80.2200   3/8/2019   \n",
      "2      Home and lifestyle       46.33         7  16.2155  340.5255   3/3/2019   \n",
      "3       Health and beauty       58.22         8  23.2880  489.0480  1/27/2019   \n",
      "4       Sports and travel       86.31         7  30.2085  634.3785   2/8/2019   \n",
      "\n",
      "   Average Price  \n",
      "0        78.4245  \n",
      "1        16.0440  \n",
      "2        48.6465  \n",
      "3        61.1310  \n",
      "4        90.6255  \n"
     ]
    }
   ],
   "source": [
    "df_sql = pd.read_sql(\"SELECT * FROM sales LIMIT 5;\", conn)\n",
    "print(df_sql)"
   ]
  },
  {
   "cell_type": "code",
   "execution_count": 14,
   "id": "9a45aeaf",
   "metadata": {},
   "outputs": [
    {
     "name": "stdout",
     "output_type": "stream",
     "text": [
      "C:\\Users\\guilh\\supermarket_sales.db\n"
     ]
    }
   ],
   "source": [
    "import os\n",
    "\n",
    "print(os.path.abspath(\"supermarket_sales.db\"))"
   ]
  },
  {
   "cell_type": "code",
   "execution_count": null,
   "id": "f272cbe2",
   "metadata": {},
   "outputs": [],
   "source": []
  }
 ],
 "metadata": {
  "kernelspec": {
   "display_name": "Python 3 (ipykernel)",
   "language": "python",
   "name": "python3"
  },
  "language_info": {
   "codemirror_mode": {
    "name": "ipython",
    "version": 3
   },
   "file_extension": ".py",
   "mimetype": "text/x-python",
   "name": "python",
   "nbconvert_exporter": "python",
   "pygments_lexer": "ipython3",
   "version": "3.11.5"
  }
 },
 "nbformat": 4,
 "nbformat_minor": 5
}
